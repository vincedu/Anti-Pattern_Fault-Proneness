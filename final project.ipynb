{
 "cells": [
  {
   "cell_type": "markdown",
   "id": "46aa4412",
   "metadata": {},
   "source": [
    "# Extract traditional smells\n",
    "returns a dictionary of list, with key represents a traditional smell and value represents list of classes that contain the smell"
   ]
  },
  {
   "cell_type": "code",
   "execution_count": null,
   "id": "89da67f2",
   "metadata": {},
   "outputs": [],
   "source": [
    "import os\n",
    "import subprocess\n",
    "import configparser\n",
    "import pandas as pd\n",
    "import re\n",
    "import shutil\n",
    "import time\n",
    "import sys\n",
    "\n",
    "def extract_traditional_smells(project_name):\n",
    "    print(\"extracting traditional smells from repository: \" + project_name)\n",
    "    %cd ./resources\n",
    "    subprocess.call(['java', '-jar', './DECOR_JAVA.jar', \"../\" + project_name, project_name, \"\"])\n",
    "    %cd ../\n",
    "\n",
    "    # check if the result of detection is generated\n",
    "    if os.path.isdir('./TEMP'):s\n",
    "\n",
    "        # dictionary of list, key represents a traditional smell and value represents list of classes that contain the smell\n",
    "        smell_classes_dict = dict()\n",
    "\n",
    "        # iterate through each generated file\n",
    "        result_files_path = \"./TEMP/\" + project_name\n",
    "        for filename in os.listdir(result_files_path):\n",
    "\n",
    "            # read the content of the file\n",
    "            file_path = result_files_path + \"/\" + filename\n",
    "            with open(file_path) as file:\n",
    "                file_content = '[dummy_section]\\n' + file.read()\n",
    "            config = configparser.ConfigParser()\n",
    "            config.read_string(file_content)\n",
    "\n",
    "            # find all smelly test classes that contain traditional smell\n",
    "            smelly_classes = []\n",
    "            for key, value in config.items('dummy_section'):\n",
    "                if re.match(\"^[0-9]+\\.[0-9]+\\.[a-zA-Z]+-\\d$\", key):\n",
    "                    class_name = value.split(\".\")[-1]\n",
    "                    if \"test\" in class_name.lower() or \"tests\" in class_name.lower():\n",
    "                        smelly_classes.append(class_name)\n",
    "            # map smell and classes containing the smell\n",
    "            if smelly_classes:\n",
    "                smell_name = filename.split(\" \")[-1].split(\".\")[0]\n",
    "                smell_classes_dict[smell_name] = smelly_classes\n",
    "\n",
    "        # delete result of detection\n",
    "        try:\n",
    "            shutil.rmtree(\"./TEMP/\")\n",
    "        except OSError as e:\n",
    "            print(\"Error: %s - %s.\" % (e.filename, e.strerror))\n",
    "        finally:\n",
    "            print(\"Traditional smells extracted for project: \", project_name)\n",
    "            return smell_classes_dict\n",
    "\n",
    "    else:    \n",
    "        print(\"ERROR: extracting traditionial smells failed\")\n",
    "        return None"
   ]
  }
 ],
 "metadata": {
  "kernelspec": {
   "display_name": "Python 3",
   "language": "python",
   "name": "python3"
  },
  "language_info": {
   "codemirror_mode": {
    "name": "ipython",
    "version": 3
   },
   "file_extension": ".py",
   "mimetype": "text/x-python",
   "name": "python",
   "nbconvert_exporter": "python",
   "pygments_lexer": "ipython3",
   "version": "3.8.8"
  }
 },
 "nbformat": 4,
 "nbformat_minor": 5
}
