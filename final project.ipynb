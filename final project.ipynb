{
 "cells": [
  {
   "cell_type": "markdown",
   "id": "44768c1e",
   "metadata": {},
   "source": [
    "# Data Cleaning\n",
    "delete files in manually labeled data (**release-level-data** from replication kit https://zenodo.org/record/5675024#.Ya-B8fHML0o) that are not related to bug fixes"
   ]
  },
  {
   "cell_type": "code",
   "execution_count": 55,
   "id": "c3224855",
   "metadata": {},
   "outputs": [
    {
     "name": "stdout",
     "output_type": "stream",
     "text": [
      "data cleaning done\n"
     ]
    }
   ],
   "source": [
    "import os\n",
    "\n",
    "for filename in os.listdir('./release-level-data'):\n",
    "    if filename.endswith(\"bug_fixes.json\"):\n",
    "        continue\n",
    "    os.remove('./release-level-data/' + filename)\n",
    "print(\"data cleaning done\")"
   ]
  },
  {
   "cell_type": "markdown",
   "id": "46aa4412",
   "metadata": {},
   "source": [
    "# Extract traditional smells\n",
    "returns a dictionary of list, with key represents a traditional smell and value represents list of classes that contain the smell"
   ]
  },
  {
   "cell_type": "code",
   "execution_count": 46,
   "id": "89da67f2",
   "metadata": {},
   "outputs": [],
   "source": [
    "import os\n",
    "import subprocess\n",
    "import configparser\n",
    "import pandas as pd\n",
    "import re\n",
    "import shutil\n",
    "import time\n",
    "import sys\n",
    "\n",
    "def extract_traditional_smells(project_name):\n",
    "    print(\"extracting traditional smells from repository: \" + project_name)\n",
    "    subprocess.call(['java', '-jar', './DECOR_JAVA.jar', project_name, project_name, \"\"])\n",
    "\n",
    "    # check if the result of detection is generated\n",
    "    if os.path.isdir('../TEMP'):\n",
    "\n",
    "        # dictionary of list, key represents a traditional smell and value represents list of classes that contain the smell\n",
    "        smell_classes_dict = {}\n",
    "        # iterate through each generated file\n",
    "        result_files_path = \"../TEMP/\" + project_name\n",
    "        for filename in os.listdir(result_files_path):\n",
    "\n",
    "            # read the content of the file\n",
    "            file_path = result_files_path + \"/\" + filename\n",
    "            with open(file_path) as file:\n",
    "                file_content = '[dummy_section]\\n' + file.read()\n",
    "            config = configparser.ConfigParser()\n",
    "            config.read_string(file_content)\n",
    "\n",
    "            # find all smelly test classes that contain traditional smell\n",
    "            smelly_classes = []\n",
    "            for key, value in config.items('dummy_section'):\n",
    "                if re.match(\"^[0-9]+\\.[0-9]+\\.[a-zA-Z]+-\\d$\", key):\n",
    "                    class_name = value.split(\".\")[-1]\n",
    "                    smelly_classes.append(class_name)\n",
    "            # map smell and classes containing the smell\n",
    "            if smelly_classes:\n",
    "                smell_name = filename.split(\" \")[-1].split(\".\")[0]\n",
    "                smell_classes_dict[smell_name] = smelly_classes\n",
    "\n",
    "        # delete result of detection\n",
    "        try:\n",
    "            shutil.rmtree(\"../TEMP/\")\n",
    "        except OSError as e:\n",
    "            print(\"Error: %s - %s.\" % (e.filename, e.strerror))\n",
    "        finally:\n",
    "            print(\"Traditional smells extracted for project: \", project_name)\n",
    "            return smell_classes_dict\n",
    "\n",
    "    else:    \n",
    "        print(\"ERROR: extracting traditionial smells failed\")\n",
    "        return None"
   ]
  },
  {
   "cell_type": "markdown",
   "id": "e9a67a00",
   "metadata": {},
   "source": [
    "# Extract traditional smells test\n"
   ]
  },
  {
   "cell_type": "code",
   "execution_count": 49,
   "id": "1c3d0d00",
   "metadata": {},
   "outputs": [
    {
     "name": "stdout",
     "output_type": "stream",
     "text": [
      "extracting traditional smells from repository: ant-ivy\n",
      "Traditional smells extracted for project:  ant-ivy\n",
      "{'LazyClass': ['IvyWebdavFileSystem', 'IvyWebdavFileSystem'], 'LongMethod': ['VfsResourceTest', 'XmlModuleUpdaterTest', 'IvyCachePathTest', 'TestPerformance', 'IvyCacheTask', 'ModuleRevisionId', 'IvyVar', 'ResolveTest', 'CredentialsUtil', 'IBiblioResolverTest', 'SortTest', 'IvyArtifactReport', 'IvyInstall', 'VfsRepository', 'IvyTask', 'JarJarDependencyAnalyser', 'IvyWebdavClientFactory', 'VersionRangeMatcher', 'FileUtil', 'MRIDTransformationRuleTest', 'AbstractSshBasedRepository', 'SshRepository', 'Main', 'AntBuildTrigger', 'IvyReport', 'IvyBuildNumber', 'IvyCacheFileset', 'DualResolverTest', 'IvyPublishTest', 'ConfiguratorTest', 'IvyWebdavConnectionManager', 'ApacheURLLister', 'Message', 'JarModuleFinder', 'ChainResolverTest', 'IvyConfigure', 'DefaultModuleDescriptor', 'RepositoryResolver', 'IvyListModules', 'IvyInfo', 'SFTPRepository', 'VfsRepositoryTest', 'BasicURLHandler', 'IBiblioHelper', 'ResolverHelper', 'IvyBuildListTest', 'IvyArtifactProperty', 'AntCallTriggerTest', 'ModuleDescriptorSorter', 'IvyEventFilter', 'PomModuleDescriptorParserTest', 'AntCallTrigger', 'IvyPostResolveTask', 'IvyCheck', 'SshCache', 'IvyRepResolverTest', 'IvyRetrieveTest', 'IvyExtractFromSources', 'URLRepository', 'IvyRepositoryReport', 'URLResolverTest', 'ResolveReport', 'HttpClientHandler', 'ConfigurationsExample', 'IvyDeliverTest', 'DefaultDependencyDescriptor', 'CacheResolver'], 'ClassDataShouldBePrivate': ['LatestRevisionStrategy', 'FilterHelper', 'XmlModuleDescriptorUpdater', 'VfsTestHelper'], 'ComplexClass': ['IvyPatternHelper', 'VfsURI', 'AbstractResolver', 'IvyPatternHelper', 'Scp', 'SFTPRepository', 'TransferEvent', 'IvyResolve', 'XmlReportOutputter', 'IvyReport', 'IvyPublish', 'XmlModuleDescriptorParser', 'IvyBuildList', 'IvyDeliver', 'PomModuleDescriptorParser', 'IvyPostResolveTask', 'IvyResolve', 'IvyNode', 'IvyBuildList', 'Ivy', 'AbstractModuleDescriptorParser', 'VersionRangeMatcher', 'IvyBuildNumber', 'IvyPublish', 'SshRepository', 'Configuration', 'IvyPostResolveTask', 'ResolveTest', 'StatusManager', 'ConfigurationResolveReport', 'IvyArtifactReport', 'RepositoryResolver', 'SshCache', 'DefaultDependencyDescriptor', 'IvyTask', 'BasicResolver', 'BasicURLHandler', 'IvyReport', 'VfsResourceTest', 'XmlModuleDescriptorWriter', 'AbstractResolver', 'Configurator', 'IvyDeliver', 'Ivy', 'IBiblioResolver', 'CredentialsUtil', 'AbstractResourceResolver', 'BasicResolver', 'DefaultModuleDescriptor', 'IvyRepResolver', 'IvyNode', 'DefaultDependencyDescriptor', 'VsftpRepository', 'DefaultModuleDescriptor', 'IvyRepositoryReport', 'FileUtil', 'VfsRepositoryTest', 'XmlIvyConfigurationParser', 'Main', 'TransferEvent', 'HttpClientHandler', 'ResolverHelper', 'Message', 'AbstractSshBasedRepository', 'VsftpRepository', 'ChainResolver'], 'AntiSingleton': ['XmlModuleDescriptorUpdater', 'FilterHelper'], 'LongParameterList': ['BasicResource', 'TransferEvent', 'IvyReport', 'VfsURI', 'DefaultDependencyArtifactDescriptor', 'SshResource', 'IvyPatternHelper', 'MockResolver', 'IvyTask', 'Configuration', 'Ivy', 'MDArtifact', 'DefaultDependencyDescriptor', 'SshCache', 'EndArtifactDownloadEvent', 'IvyNode', 'AbstractModuleDescriptorParserTester', 'ConfigurationResolveReport', 'DefaultModuleRevision', 'ResolveData', 'IvyWebdavClientFactory', 'ArtifactRevisionId', 'Main', 'DefaultArtifact', 'ModuleRevisionId', 'IvyRepositoryReport', 'XmlModuleDescriptorUpdater', 'RepositoryResolver', 'AbstractResourceResolver', 'TestPerformance', 'ResolveTest']}\n"
     ]
    }
   ],
   "source": [
    "smell_classes_dict = extract_traditional_smells('ant-ivy')\n",
    "print(smell_classes_dict)"
   ]
  },
  {
   "cell_type": "markdown",
   "id": "6464f9ff",
   "metadata": {},
   "source": [
    "# Extract traditional smells 2\n",
    "returns a set of classes that contain a smell"
   ]
  },
  {
   "cell_type": "code",
   "execution_count": 34,
   "id": "23bac299",
   "metadata": {},
   "outputs": [],
   "source": [
    "import os\n",
    "import subprocess\n",
    "import configparser\n",
    "import pandas as pd\n",
    "import re\n",
    "import shutil\n",
    "import time\n",
    "import sys\n",
    "\n",
    "def extract_traditional_smells2(project_name):\n",
    "    print(\"extracting traditional smells from repository: \" + project_name)\n",
    "    subprocess.call(['java', '-jar', './DECOR_JAVA.jar', project_name, project_name, \"\"])\n",
    "\n",
    "    # check if the result of detection is generated\n",
    "    if os.path.isdir('../TEMP'):\n",
    "\n",
    "        # set of classes that contain the smell\n",
    "        smell_classes_set = set()\n",
    "\n",
    "        # iterate through each generated file\n",
    "        result_files_path = \"../TEMP/\" + project_name\n",
    "        for filename in os.listdir(result_files_path):\n",
    "\n",
    "            # read the content of the file\n",
    "            file_path = result_files_path + \"/\" + filename\n",
    "            with open(file_path) as file:\n",
    "                file_content = '[dummy_section]\\n' + file.read()\n",
    "            config = configparser.ConfigParser()\n",
    "            config.read_string(file_content)\n",
    "\n",
    "            # find all smelly test classes that contain traditional smell\n",
    "            for key, value in config.items('dummy_section'):\n",
    "                if re.match(\"^[0-9]+\\.[0-9]+\\.[a-zA-Z]+-\\d$\", key):\n",
    "                    class_name = value.split(\".\")[-1]\n",
    "                    smell_classes_set.add(class_name)\n",
    "\n",
    "        # delete result of detection\n",
    "        try:\n",
    "            shutil.rmtree(\"../TEMP/\")\n",
    "        except OSError as e:\n",
    "            print(\"Error: %s - %s.\" % (e.filename, e.strerror))\n",
    "        finally:\n",
    "            print(\"Traditional smells extracted for project: \", project_name)\n",
    "            return smell_classes_set\n",
    "\n",
    "    else:    \n",
    "        print(\"ERROR: extracting traditionial smells failed\")\n",
    "        return None"
   ]
  },
  {
   "cell_type": "markdown",
   "id": "e8d28fdb",
   "metadata": {},
   "source": [
    "# RQ1 - Fisher exact test"
   ]
  },
  {
   "cell_type": "code",
   "execution_count": 30,
   "id": "ee95d4be",
   "metadata": {},
   "outputs": [
    {
     "name": "stdout",
     "output_type": "stream",
     "text": [
      "extracting traditional smells from repository: ant-ivy\n",
      "Traditional smells extracted for project:  ant-ivy\n",
      "{'CredentialsUtil', 'FileUtil', 'XmlReportOutputter', 'DefaultDependencyDescriptor', 'AbstractModuleDescriptorParser', 'SortTest', 'JarModuleFinder', 'IvyRepResolverTest', 'IvyCachePathTest', 'VersionRangeMatcher', 'IvyRetrieveTest', 'IvyInstall', 'CacheResolver', 'ModuleDescriptorSorter', 'ResolveReport', 'IvyPublish', 'IvyBuildNumber', 'URLResolverTest', 'LatestRevisionStrategy', 'URLRepository', 'XmlModuleDescriptorParser', 'ResolveData', 'MockResolver', 'IvyListModules', 'IvyExtractFromSources', 'StatusManager', 'DefaultDependencyArtifactDescriptor', 'BasicResolver', 'BasicURLHandler', 'IvyWebdavConnectionManager', 'ChainResolverTest', 'XmlModuleUpdaterTest', 'IvyTask', 'Scp', 'XmlModuleDescriptorUpdater', 'IvyDeliver', 'IvyVar', 'DefaultModuleDescriptor', 'IvyPublishTest', 'DefaultArtifact', 'IvyConfigure', 'AbstractSshBasedRepository', 'IvyCheck', 'IvyCacheFileset', 'SshCache', 'IBiblioHelper', 'IvyArtifactReport', 'Ivy', 'XmlModuleDescriptorWriter', 'MDArtifact', 'AbstractResourceResolver', 'PomModuleDescriptorParserTest', 'VfsTestHelper', 'ApacheURLLister', 'AbstractModuleDescriptorParserTester', 'ConfigurationsExample', 'SFTPRepository', 'XmlIvyConfigurationParser', 'VsftpRepository', 'IvyNode', 'JarJarDependencyAnalyser', 'ResolverHelper', 'AntCallTrigger', 'IvyDeliverTest', 'IBiblioResolver', 'IvyRepositoryReport', 'FilterHelper', 'IvyBuildListTest', 'SshRepository', 'ConfigurationResolveReport', 'AbstractResolver', 'ArtifactRevisionId', 'IvyWebdavFileSystem', 'IBiblioResolverTest', 'IvyBuildList', 'IvyWebdavClientFactory', 'DualResolverTest', 'ModuleRevisionId', 'Main', 'IvyArtifactProperty', 'IvyRepResolver', 'BasicResource', 'DefaultModuleRevision', 'ResolveTest', 'Message', 'IvyPatternHelper', 'Configurator', 'IvyReport', 'IvyInfo', 'VfsURI', 'SshResource', 'IvyResolve', 'IvyPostResolveTask', 'AntBuildTrigger', 'VfsResourceTest', 'ChainResolver', 'AntCallTriggerTest', 'RepositoryResolver', 'MRIDTransformationRuleTest', 'EndArtifactDownloadEvent', 'ConfiguratorTest', 'IvyCacheTask', 'VfsRepository', 'HttpClientHandler', 'TransferEvent', 'IvyEventFilter', 'PomModuleDescriptorParser', 'VfsRepositoryTest', 'Configuration', 'TestPerformance'}\n",
      "\n",
      "\n",
      "Fisher exact test odds ratio: 3.5230\n",
      "Fisher exact test p-value: 0.0515\n"
     ]
    }
   ],
   "source": [
    "from git import Repo\n",
    "import json\n",
    "from scipy.stats import fisher_exact\n",
    "\n",
    "# clone repo\n",
    "# repo = Repo.clone_from('https://github.com/apache/ant-ivy', 'ant-ivy')\n",
    "repo = Repo('ant-ivy')\n",
    "\n",
    "# checkout to specific release\n",
    "# print(repo.tags)\n",
    "repo.git.checkout('1.4.1')\n",
    "\n",
    "smelly_classes = extract_traditional_smells2('ant-ivy')\n",
    "print(smelly_classes)\n",
    "\n",
    "# number of classes with at least one fixing and with at least one anti-pattern \n",
    "w_fix_w_anti = 0\n",
    "# number of classes with at least one fixing and without any anti-patterns\n",
    "w_fix_wo_anti = 0\n",
    "# number of classes without any fixing and with at least one anti-pattern \n",
    "wo_fix_w_anti = 0\n",
    "# number of classes without any fixing and without any anti-patterns\n",
    "wo_fix_wo_anti = 0\n",
    "\n",
    "f = open('./release-level-data/ant-ivy-1.4.1_bug_fixes.json')\n",
    "data = json.load(f)\n",
    "for line in data:\n",
    "    filename = line['file'].split(\"/\")[-1].split(\".\")[0]\n",
    "    if line['bug_fixes']:\n",
    "        if filename in smelly_classes:\n",
    "            w_fix_w_anti +=1\n",
    "        else:\n",
    "            w_fix_wo_anti += 1\n",
    "    else:\n",
    "        if filename in smelly_classes:\n",
    "            wo_fix_w_anti +=1\n",
    "        else:\n",
    "            wo_fix_wo_anti += 1\n",
    "\n",
    "f.close()\n",
    "\n",
    "# computer fisher exact test\n",
    "data = [[w_fix_w_anti, wo_fix_w_anti],\n",
    "         [w_fix_wo_anti, wo_fix_wo_anti]]\n",
    "\n",
    "oddsratio, pvalue = fisher_exact(data)\n",
    "print('\\n')\n",
    "print('Fisher exact test odds ratio: {:.4f}'.format(oddsratio))\n",
    "print('Fisher exact test p-value: {:.4f}'.format(pvalue))"
   ]
  }
 ],
 "metadata": {
  "kernelspec": {
   "display_name": "Python 3",
   "language": "python",
   "name": "python3"
  },
  "language_info": {
   "codemirror_mode": {
    "name": "ipython",
    "version": 3
   },
   "file_extension": ".py",
   "mimetype": "text/x-python",
   "name": "python",
   "nbconvert_exporter": "python",
   "pygments_lexer": "ipython3",
   "version": "3.8.8"
  }
 },
 "nbformat": 4,
 "nbformat_minor": 5
}
